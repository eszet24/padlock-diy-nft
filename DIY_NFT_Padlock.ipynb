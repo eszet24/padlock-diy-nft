{
 "cells": [
  {
   "cell_type": "markdown",
   "metadata": {},
   "source": [
    "# 1. Define the layout for the padlock:\n",
    "-> 1. Input the umber of content tiles you want to have (recommended 1, 4, 9; will be reduced to next lower square number later)\n",
    "\n",
    "--> 2. Input the number of randomly colored frame lines (be careful: the more frames the less content space)\n",
    "\n",
    "---> 3. Input the line size (the bigger the number the bolder the frame gets)"
   ]
  },
  {
   "cell_type": "code",
   "execution_count": 38,
   "metadata": {},
   "outputs": [
    {
     "name": "stdout",
     "output_type": "stream",
     "text": [
      "Ok., I will create 9 tile(s), each having 12 frame(s) with a line size of 6.\n"
     ]
    }
   ],
   "source": [
    "tiles = int(input(\"Enter number of tiles: \"))\n",
    "frames = int(input(\"Enter number of frames: \"))\n",
    "lines = int(input(\"Enter size of lines: \"))\n",
    "\n",
    "print(f\"Ok., I will create {tiles} tile(s), each having {frames} frame(s) with a line size of {lines}.\")"
   ]
  },
  {
   "cell_type": "markdown",
   "metadata": {},
   "source": [
    "# 2. Showcase the layout based on selected input parameters"
   ]
  },
  {
   "cell_type": "code",
   "execution_count": 39,
   "metadata": {},
   "outputs": [
    {
     "name": "stdout",
     "output_type": "stream",
     "text": [
      "This is how the template looks like:\n"
     ]
    },
    {
     "data": {
      "image/png": "[encoded data removed]",
      "text/plain": [
       "<Figure size 640x480 with 1 Axes>"
      ]
     },
     "metadata": {},
     "output_type": "display_data"
    }
   ],
   "source": [
    "import math\n",
    "import numpy as np\n",
    "import random as rnd\n",
    "import matplotlib.pyplot as plt\n",
    "from PIL import Image, ImageDraw, ImageOps\n",
    "\n",
    "# Design variables\n",
    "tile_number = tiles                    # Will be adjusted to lower square number (1=big, 4=medium, 9=small size)\n",
    "frame_number = frames                    # Must be any number between 1 and 12\n",
    "frame_line_width = lines                  # Recommendation of line size is 6 (the bigger the bolder)\n",
    "\n",
    "# frame_object = Image.open('/Downloads/DIT_NFT_Logo.png')   \n",
    "frame_object = None                \n",
    "\n",
    "tiles_per_row = math.floor(math.sqrt(tile_number))  # Calculate next smaller squared layout\n",
    "tiles_per_column = tiles_per_row                    # Only squared wallpapers\n",
    "\n",
    "# Create a basic tile image using Pillow\n",
    "tile_size = (400, 400)\n",
    "tile = Image.new(\"RGB\", tile_size, \"red\")           # Initially a false color\n",
    "\n",
    "# Global variable\n",
    "hash_input = \"\"                                     # Initialize, reset or empty hash input\n",
    "\n",
    "# Design wallpaper by inner pattrern\n",
    "def assemble_wallpaper(tile, rows=tiles_per_row, cols=tiles_per_column):\n",
    "    global hash_input\n",
    "     \n",
    "    tile = Image.new(\"RGB\", (tile_size[0] * cols, tile_size[1] * rows), \"skyblue\")\n",
    "\n",
    "    hash_input = \"\"                                 # Initialize, reset or empty hash input\n",
    "\n",
    "    for i in range(rows):\n",
    "        for j in range(cols):\n",
    "  \n",
    "            # Patterm dimensions\n",
    "            width, height = 300, 300                # Pattern square room\n",
    "            nested_depth = frame_number             # Number of nested squares\n",
    "            distance = 10                           # Distance between squares\n",
    "\n",
    "            # Sizing of square pattern\n",
    "            width, height = 360, 360\n",
    "            pattern = Image.new('RGB', (width, height), 'skyblue')\n",
    "            draw = ImageDraw.Draw(pattern)\n",
    "\n",
    "            # Drawing nested rectangles\n",
    "            for x in range(nested_depth):\n",
    "\n",
    "                # Position and size of outer rectangle\n",
    "                if x == 0:\n",
    "                    start_x, start_y = distance, distance\n",
    "                    rect_width = 340\n",
    "                    rect_height = 340\n",
    "\n",
    "                # Defining random RGB color per square\n",
    "                red_value = round(rnd.random()*255)\n",
    "                green_value = round(rnd.random()*255)\n",
    "                blue_value = round(rnd.random()*255)\n",
    "                random_color = (red_value, green_value, blue_value)\n",
    "                            \n",
    "                hash_input = hash_input + str(red_value) + str(green_value) + str(blue_value)\n",
    "        \n",
    "                # Draw frame\n",
    "                draw.rectangle(\n",
    "                    [start_x, start_y, start_x + rect_width, start_y + rect_height], \n",
    "                    outline=(random_color),\n",
    "                    width=frame_line_width)\n",
    "    \n",
    "                # Adjust position an size for next smaller square\n",
    "                start_x += distance\n",
    "                start_y += distance\n",
    "                rect_width -= 2 * distance\n",
    "                rect_height -= 2 * distance\n",
    "\n",
    "                # Fit in frame content\n",
    "                if x == nested_depth:\n",
    "                    pattern.paste(frame_object)\n",
    "                    draw = ImageDraw.Draw(pattern)\n",
    "            \n",
    "            tile.paste(pattern, (j * tile_size[0] + (2*distance), i * tile_size[1] + (2*distance)))  \n",
    "            draw = ImageDraw.Draw(tile)\n",
    "\n",
    "    return tile\n",
    "\n",
    "# Generate and display wallpaper pattern\n",
    "\n",
    "print(f\"This is how the template looks like:\")\n",
    "\n",
    "wallpaper = assemble_wallpaper(tile)\n",
    "plt.imshow(wallpaper)\n",
    "plt.axis(\"off\")\n",
    "plt.show()\n",
    "\n"
   ]
  },
  {
   "cell_type": "markdown",
   "metadata": {},
   "source": [
    "## 3. Calculate a unique hash for NFT:\n",
    "-> The hash input is dertermined by concatenating all single and randomly defined (RGB) color values"
   ]
  },
  {
   "cell_type": "code",
   "execution_count": 40,
   "metadata": {},
   "outputs": [
    {
     "name": "stdout",
     "output_type": "stream",
     "text": [
      "These are the randomly created RGB values concatenated tile by tile and frame by frame:\n",
      "2462341534263250134214226651522022361496914215215191233182198142238433135234247235110177023510610722710453111124235771652051841601962421141931719716280491502461531262411266815435551831263419422424417312349981702092201282708114544362369185246811924511911064147137155715984752511248178202117421496721910811562492317113944392232754612711828244173162301711195129171635230188532341842164094228246196148142331362271421025981671660892191131680621641996112345122181159622548911613324622529162123142180419813514313814217614687156802501051965713321715239671591582061351711404022318283352269061131592221557710721342228021912424225430216161117157721212001192710715319415816917711238156589932304246154208193161172121418315713519183151184109222176241095106247122019567112612312481722012236711716961927021157719015312110237308416711214016613013915324046\n",
      "\n",
      "The following key was calculated as hash over all coloours in order to make your NFT unique for registration:\n",
      "15a4e35de15a0dda73e4d990e13fe6c2\n"
     ]
    }
   ],
   "source": [
    "import hashlib\n",
    "\n",
    "print(f\"These are the randomly created RGB values concatenated tile by tile and frame by frame:\")\n",
    "print(hash_input)\n",
    "print()\n",
    "\n",
    "# Convert hash string into byte format UTF-8\n",
    "hash_bytes = hash_input.encode('utf-8')\n",
    "\n",
    "# Calcualation of hash (first choice is MD5 to keep it simple, otherwise SHA-256 could be used too)\n",
    "NFT_hash = hashlib.md5(hash_bytes)\n",
    "\n",
    "# Output of hash value as hexadecimal string\n",
    "NFT_hex = NFT_hash.hexdigest()\n",
    "\n",
    "# Short for SHA-256: NFT_hex = hashlib.sha256(hash_bytes.encode('utf-8')).hexdigest()\n",
    "\n",
    "print (f\"The following key was calculated as hash over all coloours in order to make your NFT unique for registration:\")\n",
    "print(NFT_hex)"
   ]
  },
  {
   "cell_type": "markdown",
   "metadata": {},
   "source": [
    "# 4a - Option 1:  Register NFT hash code in a JSON database"
   ]
  },
  {
   "cell_type": "code",
   "execution_count": 41,
   "metadata": {},
   "outputs": [
    {
     "name": "stdout",
     "output_type": "stream",
     "text": [
      "NFT with hash 15a4e35de15a0dda73e4d990e13fe6c2 has been added successfully on 2025-02-01 19:58:48\n"
     ]
    }
   ],
   "source": [
    "import json\n",
    "import os\n",
    "import time\n",
    "from datetime import datetime\n",
    "\n",
    "def create_or_update_database(db_filename, nft_data, tiles, frames, line):\n",
    "    # Check if the database file exists\n",
    "    if os.path.exists(db_filename):\n",
    "        # Open the existing database\n",
    "        with open(db_filename, 'r') as file:\n",
    "            db = json.load(file)\n",
    "    else:\n",
    "        # If the database doesn't exist, create an empty list\n",
    "        db = []\n",
    "\n",
    "    # Check if the NFT already exists in the database (primary key check)\n",
    "    for entry in db:\n",
    "        if entry['NFT_hex'] == NFT_hex:\n",
    "            raise ValueError(\"NFT already registered, please try another!\")\n",
    "        \n",
    "     # Get the current timestamp in human-readable format\n",
    "    timestamp = time.time()\n",
    "    readable_timestamp = datetime.fromtimestamp(timestamp).strftime('%Y-%m-%d %H:%M:%S')\n",
    "\n",
    "    # Create a new entry with the required fields\n",
    "    new_entry = {\n",
    "        \"NFT_hex\": NFT_hex,\n",
    "        \"No. of Tiles\": tiles,\n",
    "        \"No. of Frames\": frames,\n",
    "        \"Line strength\": lines,\n",
    "        \"Registered\": readable_timestamp\n",
    "    }\n",
    "\n",
    "    # Add the new entry to the database\n",
    "    db.append(new_entry)\n",
    "\n",
    "    # Save the updated database back to the file\n",
    "    with open(db_filename, 'w') as file:\n",
    "        json.dump(db, file, indent=4)\n",
    "\n",
    "    print(f\"NFT with hash {NFT_hex} has been added successfully on {readable_timestamp}\")\n",
    "\n",
    "# Try to register new NFT:\n",
    "try:\n",
    "    create_or_update_database(\"DIY_NFT_Padlock_Registry.json\", NFT_hex, tiles, frames, lines)\n",
    "except ValueError as e:\n",
    "    print(e)\n"
   ]
  },
  {
   "cell_type": "markdown",
   "metadata": {},
   "source": [
    "# 4b - Option 2:  Register NFT hash code in a SQL database"
   ]
  },
  {
   "cell_type": "code",
   "execution_count": 42,
   "metadata": {},
   "outputs": [
    {
     "name": "stdout",
     "output_type": "stream",
     "text": [
      "NFT with hash 15a4e35de15a0dda73e4d990e13fe6c2 has been added successfully on 2025-02-01 19:58:55\n"
     ]
    }
   ],
   "source": [
    "import sqlite3\n",
    "import time\n",
    "from datetime import datetime\n",
    "\n",
    "def create_or_update_database(db_filename, NFT_hex, tiles, frames, lines):\n",
    "    # Connect to the SQLite database (or create it if it doesn't exist)\n",
    "    conn = sqlite3.connect(db_filename)\n",
    "    cursor = conn.cursor()\n",
    "\n",
    "    # Create the table if it doesn't exist\n",
    "    cursor.execute('''\n",
    "    CREATE TABLE IF NOT EXISTS nft_registry (\n",
    "        NFT_hex TEXT PRIMARY KEY,\n",
    "        No_of_Tiles INTEGER,\n",
    "        No_of_Frames INTEGER,\n",
    "        Line_strength INTEGER,\n",
    "        Registered TEXT\n",
    "    )\n",
    "    ''')\n",
    "\n",
    "    # Check if the NFT already exists in the database (primary key check)\n",
    "    cursor.execute('SELECT * FROM nft_registry WHERE NFT_hex = ?', (NFT_hex,))\n",
    "    existing_nft = cursor.fetchone()\n",
    "\n",
    "    if existing_nft:\n",
    "        raise ValueError(\"NFT already registered, please try another!\")\n",
    "\n",
    "    # Get the current timestamp in human-readable format\n",
    "    timestamp = time.time()\n",
    "    readable_timestamp = datetime.fromtimestamp(timestamp).strftime('%Y-%m-%d %H:%M:%S')\n",
    "\n",
    "    # Insert the new NFT record into the database\n",
    "    cursor.execute('''\n",
    "    INSERT INTO nft_registry (NFT_hex, No_of_Tiles, No_of_Frames, Line_strength, Registered)\n",
    "    VALUES (?, ?, ?, ?, ?)\n",
    "    ''', (NFT_hex, tiles, frames, lines, readable_timestamp))\n",
    "\n",
    "    # Commit the changes and close the connection\n",
    "    conn.commit()\n",
    "    conn.close()\n",
    "\n",
    "    print(f\"NFT with hash {NFT_hex} has been added successfully on {readable_timestamp}\")\n",
    "\n",
    "# Example usage:\n",
    "try:\n",
    "    create_or_update_database(\"DIY_NFT_Padlock_Registry.db\", NFT_hex, tiles, frames, lines)\n",
    "except ValueError as e:\n",
    "    print(e)\n"
   ]
  }
 ],
 "metadata": {
  "kernelspec": {
   "display_name": "Python 3",
   "language": "python",
   "name": "python3"
  },
  "language_info": {
   "codemirror_mode": {
    "name": "ipython",
    "version": 3
   },
   "file_extension": ".py",
   "mimetype": "text/x-python",
   "name": "python",
   "nbconvert_exporter": "python",
   "pygments_lexer": "ipython3",
   "version": "3.13.0"
  }
 },
 "nbformat": 4,
 "nbformat_minor": 2
}
