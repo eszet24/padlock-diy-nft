{
 "cells": [
  {
   "cell_type": "markdown",
   "metadata": {},
   "source": [
    "# 0. Define straight forward the layout for the padlock\n",
    "1. Input the umber of content tiles you want to have (recommended 1, 4, 9; will be reduced to next lower square number later)\n",
    "\n",
    "2. Input the number of randomly colored frame lines (be careful: the more frames the less content space)\n",
    "\n",
    "3. Input the line size  (the bigger the number the bolder the frame gets)"
   ]
  },
  {
   "cell_type": "code",
   "execution_count": 69,
   "metadata": {},
   "outputs": [
    {
     "name": "stdout",
     "output_type": "stream",
     "text": [
      "Ok., I will create 9 tile(s), each having 12 frame(s) with a line size of 6.\n"
     ]
    }
   ],
   "source": [
    "tiles = int(input(\"Enter number of tiles: \"))\n",
    "frames = int(input(\"Enter number of frames: \"))\n",
    "lines = int(input(\"Enter size of lines: \"))\n",
    "\n",
    "print(f\"Ok., I will create {tiles} tile(s), each having {frames} frame(s) with a line size of {lines}.\")"
   ]
  },
  {
   "cell_type": "markdown",
   "metadata": {},
   "source": [
    "# 1. Using input Widgets for a more comfortable input"
   ]
  },
  {
   "cell_type": "code",
   "execution_count": 70,
   "metadata": {},
   "outputs": [
    {
     "data": {
      "application/vnd.jupyter.widget-view+json": {
       "model_id": "66330fe617f94687a1056b106c5b01f5",
       "version_major": 2,
       "version_minor": 0
      },
      "text/plain": [
       "Dropdown(description='Tiles:', options=(1, 4, 9), value=1)"
      ]
     },
     "metadata": {},
     "output_type": "display_data"
    },
    {
     "data": {
      "application/vnd.jupyter.widget-view+json": {
       "model_id": "2f15e843be37468ea4f672cef0a9761a",
       "version_major": 2,
       "version_minor": 0
      },
      "text/plain": [
       "IntText(value=6, description='Frames:')"
      ]
     },
     "metadata": {},
     "output_type": "display_data"
    },
    {
     "data": {
      "application/vnd.jupyter.widget-view+json": {
       "model_id": "6051cdb80ac04245a90eac51d7b9d13a",
       "version_major": 2,
       "version_minor": 0
      },
      "text/plain": [
       "IntSlider(value=3, description='Lines:', max=9, min=3)"
      ]
     },
     "metadata": {},
     "output_type": "display_data"
    }
   ],
   "source": [
    "import ipywidgets\n",
    "from IPython.display import display\n",
    "\n",
    "# Init with minimum default\n",
    "tiles = 1\n",
    "frames = 6\n",
    "lines = 3\n",
    "\n",
    "# Dropdown widget for the selection of \"tiles\" (either 1 or 4)\n",
    "tiles_widget = ipywidgets.Dropdown(\n",
    "    options=[1, 4, 9],  # Allowed options: 1 or 9\n",
    "    value=1,  # Default selection\n",
    "    description=\"Tiles:\",\n",
    ")\n",
    "\n",
    "# IntText widget for the selection of \"frames\"\n",
    "frames_widget = ipywidgets.IntText(\n",
    "    value=6,  # Default value\n",
    "    description=\"Frames:\",\n",
    "    min=1,    # Minimum value\n",
    "    max=12,  # Maximum value\n",
    "    step=1,   # Step size\n",
    ")\n",
    "\n",
    "# Slider widget for the selection of \"lines\" (range from 3 to 9)\n",
    "lines_widget = ipywidgets.IntSlider(\n",
    "    value=3,  # Default value\n",
    "    min=3,    # Minimum value\n",
    "    max=9,    # Maximum value\n",
    "    step=1,   # Step size\n",
    "    description=\"Lines:\",\n",
    ")\n",
    "\n",
    "# Function to retrieve and print the values after user interaction\n",
    "def get_values(change=None):\n",
    "    global tiles, frames, lines\n",
    "    \n",
    "    tiles = tiles_widget.value\n",
    "    frames = frames_widget.value\n",
    "    lines = lines_widget.value\n",
    "\n",
    "# Display the widgets\n",
    "display(tiles_widget, frames_widget, lines_widget)\n",
    "\n",
    "# Use 'observe' to call get_values() whenever the widget's value changes\n",
    "tiles_widget.observe(get_values, names='value')\n",
    "frames_widget.observe(get_values, names='value')\n",
    "lines_widget.observe(get_values, names='value')"
   ]
  },
  {
   "cell_type": "markdown",
   "metadata": {},
   "source": [
    "# 2. Showcase the layout based on selected input parameters"
   ]
  },
  {
   "cell_type": "code",
   "execution_count": 71,
   "metadata": {},
   "outputs": [
    {
     "name": "stdout",
     "output_type": "stream",
     "text": [
      "Number of tiles: 9\n",
      "Number of frames: 12\n",
      "Size of lines: 6\n",
      "This is how the template looks like:\n"
     ]
    },
    {
     "data": {
      "image/png": "[encoded data removed]",
      "text/plain": [
       "<Figure size 640x480 with 1 Axes>"
      ]
     },
     "metadata": {},
     "output_type": "display_data"
    }
   ],
   "source": [
    "import math\n",
    "import numpy as np\n",
    "import random as rnd\n",
    "import matplotlib.pyplot as plt\n",
    "from PIL import Image, ImageDraw, ImageOps\n",
    "\n",
    "# Print the selected values\n",
    "print(f\"Number of tiles: {tiles}\")\n",
    "print(f\"Number of frames: {frames}\")\n",
    "print(f\"Size of lines: {lines}\")\n",
    "\n",
    "# Design variables\n",
    "tile_number = tiles                    # Will be adjusted to lower square number (1=big, 4=medium, 9=small size)\n",
    "frame_number = frames                    # Must be any number between 1 and 12\n",
    "frame_line_width = lines                  # Recommendation of line size is 6 (the bigger the bolder)\n",
    "\n",
    "# frame_object = Image.open('/Downloads/DIT_NFT_Logo.png')   \n",
    "frame_object = None                \n",
    "\n",
    "tiles_per_row = math.floor(math.sqrt(tile_number))  # Calculate next smaller squared layout\n",
    "tiles_per_column = tiles_per_row                    # Only squared wallpapers\n",
    "\n",
    "# Create a basic tile image using Pillow\n",
    "tile_size = (400, 400)\n",
    "tile = Image.new(\"RGB\", tile_size, \"red\")           # Initially a false color\n",
    "\n",
    "# Global variable\n",
    "hash_input = \"\"                                     # Initialize, reset or empty hash input\n",
    "\n",
    "# Design wallpaper by inner pattrern\n",
    "def assemble_wallpaper(tile, rows=tiles_per_row, cols=tiles_per_column):\n",
    "    global hash_input\n",
    "     \n",
    "    tile = Image.new(\"RGB\", (tile_size[0] * cols, tile_size[1] * rows), \"skyblue\")\n",
    "\n",
    "    hash_input = \"\"                                 # Initialize, reset or empty hash input\n",
    "\n",
    "    for i in range(rows):\n",
    "        for j in range(cols):\n",
    "  \n",
    "            # Patterm dimensions\n",
    "            width, height = 300, 300                # Pattern square room\n",
    "            nested_depth = frame_number             # Number of nested squares\n",
    "            distance = 10                           # Distance between squares\n",
    "\n",
    "            # Sizing of square pattern\n",
    "            width, height = 360, 360\n",
    "            pattern = Image.new('RGB', (width, height), 'skyblue')\n",
    "            draw = ImageDraw.Draw(pattern)\n",
    "\n",
    "            # Drawing nested rectangles\n",
    "            for x in range(nested_depth):\n",
    "\n",
    "                # Position and size of outer rectangle\n",
    "                if x == 0:\n",
    "                    start_x, start_y = distance, distance\n",
    "                    rect_width = 340\n",
    "                    rect_height = 340\n",
    "\n",
    "                # Defining random RGB color per square\n",
    "                red_value = round(rnd.random()*255)\n",
    "                green_value = round(rnd.random()*255)\n",
    "                blue_value = round(rnd.random()*255)\n",
    "                random_color = (red_value, green_value, blue_value)\n",
    "                            \n",
    "                hash_input = hash_input + str(red_value) + str(green_value) + str(blue_value)\n",
    "        \n",
    "                # Draw frame\n",
    "                draw.rectangle(\n",
    "                    [start_x, start_y, start_x + rect_width, start_y + rect_height], \n",
    "                    outline=(random_color),\n",
    "                    width=frame_line_width)\n",
    "    \n",
    "                # Adjust position an size for next smaller square\n",
    "                start_x += distance\n",
    "                start_y += distance\n",
    "                rect_width -= 2 * distance\n",
    "                rect_height -= 2 * distance\n",
    "\n",
    "                # Fit in frame content\n",
    "                if x == nested_depth:\n",
    "                    pattern.paste(frame_object)\n",
    "                    draw = ImageDraw.Draw(pattern)\n",
    "            \n",
    "            tile.paste(pattern, (j * tile_size[0] + (2*distance), i * tile_size[1] + (2*distance)))  \n",
    "            draw = ImageDraw.Draw(tile)\n",
    "\n",
    "    return tile\n",
    "\n",
    "# Generate and display wallpaper pattern\n",
    "\n",
    "print(f\"This is how the template looks like:\")\n",
    "\n",
    "wallpaper = assemble_wallpaper(tile)\n",
    "plt.imshow(wallpaper)\n",
    "plt.axis(\"off\")\n",
    "plt.show()\n",
    "\n"
   ]
  },
  {
   "cell_type": "markdown",
   "metadata": {},
   "source": [
    "## 3. Calculate a unique hash for NFT:\n",
    "-> The hash input is dertermined by concatenating all single and randomly defined (RGB) color values"
   ]
  },
  {
   "cell_type": "code",
   "execution_count": 72,
   "metadata": {},
   "outputs": [
    {
     "name": "stdout",
     "output_type": "stream",
     "text": [
      "These are the randomly created RGB values concatenated tile by tile and frame by frame:\n",
      "1612302401731961917312580189192178135199165101902111932067416580103164102431732205123072118919113581622051691551572915910924019173230134813552771348076201622537173119231103154134568631875725092512091653719317802501617316052481541215741217142152182021157625938617321925214912126324314519416013212713410364172243122212184102253151436347128155471821308525122512471371281861513712822550160215040141151302392342466314914823721019420419143224244120577996168146282161141082291701362191282261821525225248592001192341161121712010725010213251221641062342365447215169292431866475211459919110527179137131713687188291771181589244174151227410925288141772161548710257546100521111581311820658214492274318915142720161177219181242191247213991391269410624924117294521842533323671178901431681442202002821271184249455616415323876672523422687127393819516750\n",
      "\n",
      "The following key was calculated as hash over all coloours in order to make your NFT unique for registration:\n",
      "90e30d6f660f36e88cf1020829305da8\n"
     ]
    }
   ],
   "source": [
    "import hashlib\n",
    "\n",
    "print(f\"These are the randomly created RGB values concatenated tile by tile and frame by frame:\")\n",
    "print(hash_input)\n",
    "print()\n",
    "\n",
    "# Convert hash string into byte format UTF-8\n",
    "hash_bytes = hash_input.encode('utf-8')\n",
    "\n",
    "# Calcualation of hash (first choice is MD5 to keep it simple, otherwise SHA-256 could be used too)\n",
    "NFT_hash = hashlib.md5(hash_bytes)\n",
    "\n",
    "# Output of hash value as hexadecimal string\n",
    "NFT_hex = NFT_hash.hexdigest()\n",
    "\n",
    "# Short for SHA-256: NFT_hex = hashlib.sha256(hash_bytes.encode('utf-8')).hexdigest()\n",
    "\n",
    "print (f\"The following key was calculated as hash over all coloours in order to make your NFT unique for registration:\")\n",
    "print(NFT_hex)"
   ]
  },
  {
   "cell_type": "markdown",
   "metadata": {},
   "source": [
    "# 4a - Option 1:  Register NFT hash code in a JSON database"
   ]
  },
  {
   "cell_type": "code",
   "execution_count": 73,
   "metadata": {},
   "outputs": [
    {
     "name": "stdout",
     "output_type": "stream",
     "text": [
      "NFT with hash 90e30d6f660f36e88cf1020829305da8 has been added successfully on 2025-02-09 18:59:52\n"
     ]
    }
   ],
   "source": [
    "import json\n",
    "import os\n",
    "import time\n",
    "from datetime import datetime\n",
    "\n",
    "def create_or_update_database(db_filename, nft_data, tiles, frames, line):\n",
    "    # Check if the database file exists\n",
    "    if os.path.exists(db_filename):\n",
    "        # Open the existing database\n",
    "        with open(db_filename, 'r') as file:\n",
    "            db = json.load(file)\n",
    "    else:\n",
    "        # If the database doesn't exist, create an empty list\n",
    "        db = []\n",
    "\n",
    "    # Check if the NFT already exists in the database (primary key check)\n",
    "    for entry in db:\n",
    "        if entry['NFT_hex'] == NFT_hex:\n",
    "            raise ValueError(\"NFT already registered, please try another!\")\n",
    "        \n",
    "     # Get the current timestamp in human-readable format\n",
    "    timestamp = time.time()\n",
    "    readable_timestamp = datetime.fromtimestamp(timestamp).strftime('%Y-%m-%d %H:%M:%S')\n",
    "\n",
    "    # Create a new entry with the required fields\n",
    "    new_entry = {\n",
    "        \"NFT_hex\": NFT_hex,\n",
    "        \"No. of Tiles\": tiles,\n",
    "        \"No. of Frames\": frames,\n",
    "        \"Line strength\": lines,\n",
    "        \"Registered\": readable_timestamp\n",
    "    }\n",
    "\n",
    "    # Add the new entry to the database\n",
    "    db.append(new_entry)\n",
    "\n",
    "    # Save the updated database back to the file\n",
    "    with open(db_filename, 'w') as file:\n",
    "        json.dump(db, file, indent=4)\n",
    "\n",
    "    print(f\"NFT with hash {NFT_hex} has been added successfully on {readable_timestamp}\")\n",
    "\n",
    "# Try to register new NFT:\n",
    "try:\n",
    "    create_or_update_database(\"DIY_NFT_Padlock_Registry.json\", NFT_hex, tiles, frames, lines)\n",
    "except ValueError as e:\n",
    "    print(e)\n"
   ]
  },
  {
   "cell_type": "markdown",
   "metadata": {},
   "source": [
    "# 4b - Option 2:  Register NFT hash code in a SQL database"
   ]
  },
  {
   "cell_type": "code",
   "execution_count": 74,
   "metadata": {},
   "outputs": [
    {
     "name": "stdout",
     "output_type": "stream",
     "text": [
      "NFT with hash 90e30d6f660f36e88cf1020829305da8 has been added successfully on 2025-02-09 18:59:59\n"
     ]
    }
   ],
   "source": [
    "import sqlite3\n",
    "import time\n",
    "from datetime import datetime\n",
    "\n",
    "def create_or_update_database(db_filename, NFT_hex, tiles, frames, lines):\n",
    "    # Connect to the SQLite database (or create it if it doesn't exist)\n",
    "    conn = sqlite3.connect(db_filename)\n",
    "    cursor = conn.cursor()\n",
    "\n",
    "    # Create the table if it doesn't exist\n",
    "    cursor.execute('''\n",
    "    CREATE TABLE IF NOT EXISTS nft_registry (\n",
    "        NFT_hex TEXT PRIMARY KEY,\n",
    "        No_of_Tiles INTEGER,\n",
    "        No_of_Frames INTEGER,\n",
    "        Line_strength INTEGER,\n",
    "        Registered TEXT\n",
    "    )\n",
    "    ''')\n",
    "\n",
    "    # Check if the NFT already exists in the database (primary key check)\n",
    "    cursor.execute('SELECT * FROM nft_registry WHERE NFT_hex = ?', (NFT_hex,))\n",
    "    existing_nft = cursor.fetchone()\n",
    "\n",
    "    if existing_nft:\n",
    "        raise ValueError(\"NFT already registered, please try another!\")\n",
    "\n",
    "    # Get the current timestamp in human-readable format\n",
    "    timestamp = time.time()\n",
    "    readable_timestamp = datetime.fromtimestamp(timestamp).strftime('%Y-%m-%d %H:%M:%S')\n",
    "\n",
    "    # Insert the new NFT record into the database\n",
    "    cursor.execute('''\n",
    "    INSERT INTO nft_registry (NFT_hex, No_of_Tiles, No_of_Frames, Line_strength, Registered)\n",
    "    VALUES (?, ?, ?, ?, ?)\n",
    "    ''', (NFT_hex, tiles, frames, lines, readable_timestamp))\n",
    "\n",
    "    # Commit the changes and close the connection\n",
    "    conn.commit()\n",
    "    conn.close()\n",
    "\n",
    "    print(f\"NFT with hash {NFT_hex} has been added successfully on {readable_timestamp}\")\n",
    "\n",
    "# Example usage:\n",
    "try:\n",
    "    create_or_update_database(\"DIY_NFT_Padlock_Registry.db\", NFT_hex, tiles, frames, lines)\n",
    "except ValueError as e:\n",
    "    print(e)\n"
   ]
  }
 ],
 "metadata": {
  "kernelspec": {
   "display_name": "Python 3",
   "language": "python",
   "name": "python3"
  },
  "language_info": {
   "codemirror_mode": {
    "name": "ipython",
    "version": 3
   },
   "file_extension": ".py",
   "mimetype": "text/x-python",
   "name": "python",
   "nbconvert_exporter": "python",
   "pygments_lexer": "ipython3",
   "version": "3.13.0"
  }
 },
 "nbformat": 4,
 "nbformat_minor": 2
}
